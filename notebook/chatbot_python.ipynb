{
 "cells": [
  {
   "cell_type": "code",
   "execution_count": 41,
   "id": "78812a62-2443-4ebf-bab6-c89c61718135",
   "metadata": {},
   "outputs": [
    {
     "name": "stdout",
     "output_type": "stream",
     "text": [
      "گفتگو را آغاز بفرمایید و هرجا صحبتتان تمام شد کلمه خروج را بنویسید\n"
     ]
    },
    {
     "name": "stdin",
     "output_type": "stream",
     "text": [
      " سلاک\n"
     ]
    },
    {
     "name": "stdout",
     "output_type": "stream",
     "text": [
      "pr 0.24028513131119955\n",
      "چت بات : متوجه منظورتون نشدم! لطفا سوالتون رو به صورتی اصلاح بفرمایید که در موضوع نوبت گیری و اطلاعات مطب باشه\n"
     ]
    },
    {
     "name": "stdin",
     "output_type": "stream",
     "text": [
      " سلام\n"
     ]
    },
    {
     "name": "stdout",
     "output_type": "stream",
     "text": [
      "pr 0.978988450600542\n",
      "چت بات : سلام و وقت بخیر، چه جوری میتونم کمکتون کنم ؟\n"
     ]
    },
    {
     "name": "stdin",
     "output_type": "stream",
     "text": [
      " وقت دکتر میخواستم\n"
     ]
    },
    {
     "name": "stdout",
     "output_type": "stream",
     "text": [
      "pr 0.5153614830879825\n",
      "چت بات : حتما ، شما میتونید در سایت با انتخاب گزینه رزرونوبت ، اولین نوبت خالی رو انتخاب کنید.\n"
     ]
    },
    {
     "name": "stdin",
     "output_type": "stream",
     "text": [
      " دکتر چه زمانی مطب هستن\n"
     ]
    },
    {
     "name": "stdout",
     "output_type": "stream",
     "text": [
      "pr 0.7871146730541069\n",
      "چت بات :  روزهای حضور دکتر کلثوم اکبری شنبه ها و دوشنبه ها از ساعت 17 الی 19 می باشد\n"
     ]
    },
    {
     "name": "stdin",
     "output_type": "stream",
     "text": [
      " آدرس کجاست؟\n"
     ]
    },
    {
     "name": "stdout",
     "output_type": "stream",
     "text": [
      "pr 0.6772953486465599\n",
      "چت بات : آدرس مطب : تهران/ خ نامجو / پایین تر از قجاوند / پلاک 32 / طبقه سوم / مطب دکتر کلثوم اکبری\n"
     ]
    },
    {
     "name": "stdin",
     "output_type": "stream",
     "text": [
      " میشه نوبتم رو عوض کنید\n"
     ]
    },
    {
     "name": "stdout",
     "output_type": "stream",
     "text": [
      "pr 0.557227161843752\n",
      "چت بات : حتما، مشکلی وجود نداره، شما میتونید به بخش رزرو نوبت در سایت مراجعه کنید و از اونجا گزینه تغییر نوبت رو انتخاب و زمان جدید مدنظرتون رو تعیین کنید\n"
     ]
    },
    {
     "name": "stdin",
     "output_type": "stream",
     "text": [
      " نوبتم رو کنسل کن\n"
     ]
    },
    {
     "name": "stdout",
     "output_type": "stream",
     "text": [
      "pr 0.7957052154998999\n",
      "چت بات : مشکلی وجود نداره دوست عزیز، نوبت شما لغو شد\n"
     ]
    },
    {
     "name": "stdin",
     "output_type": "stream",
     "text": [
      " ممنونم\n"
     ]
    },
    {
     "name": "stdout",
     "output_type": "stream",
     "text": [
      "pr 0.6632906357425675\n",
      "چت بات : با تشکر، با آرزوی سلامتی و حال خوش از طرف مجموعه دکتر کلثوم اکبری\n"
     ]
    },
    {
     "name": "stdin",
     "output_type": "stream",
     "text": [
      " خروج\n"
     ]
    },
    {
     "name": "stdout",
     "output_type": "stream",
     "text": [
      "چت بات : خداحافظ\n"
     ]
    }
   ],
   "source": [
    "import json\n",
    "import random\n",
    "import nltk\n",
    "from sklearn.feature_extraction.text import TfidfVectorizer\n",
    "from sklearn.linear_model import LogisticRegression\n",
    "import joblib\n",
    "try:\n",
    "    path = r\"C:\\Users\\SEYED\\Desktop\\AI\\project\\بات نوبت دهی\\output.json\"\n",
    "    with open (path , \"r\" , encoding=\"utf-8\") as f:\n",
    "        data_set = json.load(f)\n",
    "    vectorizer = joblib.load(r\"C:\\Users\\SEYED\\tfidf_vectorizer_pkl\")\n",
    "    model = joblib.load(r\"C:\\Users\\SEYED\\chatbot_model.pkl\")\n",
    "except FileNotFoundError:\n",
    "    print(\"فایل داده یا مدل ها پیدا نشدند.\")\n",
    "    exit()\n",
    "#نیت\n",
    "def predict_intent(text):\n",
    "    text_vectorized = vectorizer.transform([text])\n",
    "    intent = model.predict(text_vectorized)[0]\n",
    "    probabilities = model.predict_proba(text_vectorized)\n",
    "    confidence = max(probabilities[0])\n",
    "    return intent , confidence\n",
    "#جواب\n",
    "def get_respons(intent):\n",
    "    for intent_obj in data_set[\"intents\"]:\n",
    "        if intent_obj[\"tag\"]==intent:\n",
    "            responses = intent_obj[\"respons\"]\n",
    "            return random.choice(responses)\n",
    "    return \"متاسفانه در حال حاضر نمیتونم پاسخ بدم\"\n",
    "        \n",
    "#گفتگو\n",
    "def run_chat_bot():\n",
    "    print(\"گفتگو را آغاز بفرمایید و هرجا صحبتتان تمام شد کلمه خروج را بنویسید\")\n",
    "    while True:\n",
    "        user_input = input()\n",
    "        if user_input.lower()==\"خروج\":\n",
    "            print(\"چت بات : خداحافظ\")\n",
    "            break\n",
    "        intent , confidence = predict_intent(user_input)\n",
    "        if confidence<0.5:\n",
    "            intent=\"Defult\"   \n",
    "        respons_bot = get_respons(intent)\n",
    "        print(\"چت بات :\" ,respons_bot)\n",
    "if __name__==\"__main__\":\n",
    "    run_chat_bot()\n",
    "    "
   ]
  }
 ],
 "metadata": {
  "kernelspec": {
   "display_name": "Python 3 (ipykernel)",
   "language": "python",
   "name": "python3"
  },
  "language_info": {
   "codemirror_mode": {
    "name": "ipython",
    "version": 3
   },
   "file_extension": ".py",
   "mimetype": "text/x-python",
   "name": "python",
   "nbconvert_exporter": "python",
   "pygments_lexer": "ipython3",
   "version": "3.12.7"
  }
 },
 "nbformat": 4,
 "nbformat_minor": 5
}
